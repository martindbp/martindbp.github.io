{
 "cells": [
  {
   "cell_type": "markdown",
   "metadata": {
    "tags": [
     "remove"
    ]
   },
   "source": [
    "# Chinese Placement Test with Logistic Regression and Active Learning"
   ]
  },
  {
   "cell_type": "markdown",
   "metadata": {},
   "source": [
    "An interesting problem with language learning apps is how to estimate the prior knowledge, the vocabulary, of a new user. Unless the user is a complete beginner, they will come with at least some level of prior knowledge in Chinese. Specifying exactly what you know is too much effort if you know tons of words.\n",
    "\n",
    "Many content sites divide up content by HSK level (Hanyu Shuiping Kaoshi). For those unfamiliar with Chinese or the HSK, it's a set of standardized test where each level comes with a set of required words. For each level the number of new words roughly doubles (150, 150, 300, 600, 1300 and 2500).\n",
    "\n",
    "Given the popularity of teaching to the test, the use of these levels in teaching material and apps is pretty ubiquitous. But dividing content based on HSK level is a pretty crude measure. What happens when you're between levels? Then you're bound to over or underestimate the number of words by quite a bit, especially for higher levels. It also doesn't say anything about the words outside the HSK. This is a problem for people like me, who don't follow the HSK very closely, but instead learn words as I come across them in various materials.\n",
    "\n",
    "So for this little experiement, I'd like to be able to estimate the probability of a user knowing *any* word in the Chinese language, given a *much smaller* sample of the user's knowledge. Hopefully, the solution I'll present here could be applied to any kind of learning application where there are some properties of the atomic pieces of information that could be used to predict knowledge.\n",
    "\n",
    "## What do we know about words?\n",
    "In order to predict the word probabilities we need some features to base the prediction on. Two features pop out immediately: HSK level (duh...) and word frequency in the language. Roughly speaking, you'd expect higher HSK words to be lower frequency words, but as it turns out, the HSK levels aren't that clear cut. And even though the features are correlated, the HSK level carries additional information, since learners are very likely to use learning material that follow it.\n",
    "\n",
    "Before analyzing word frequencies and HSK words, we need to load a dictionary, a list of word frequencies and HSK words. If you wish to read the code, just click \"show code\" below:"
   ]
  },
  {
   "cell_type": "code",
   "execution_count": 57,
   "metadata": {
    "tags": [
     "remove"
    ]
   },
   "outputs": [
    {
     "name": "stdout",
     "output_type": "stream",
     "text": [
      "Once deleted, variables cannot be recovered. Proceed (y/[n])? y\n"
     ]
    }
   ],
   "source": [
    "%reset"
   ]
  },
  {
   "cell_type": "code",
   "execution_count": 1,
   "metadata": {
    "tags": [
     "toggle_input",
     "remove_output"
    ]
   },
   "outputs": [],
   "source": [
    "import re\n",
    "import time\n",
    "import random\n",
    "from datetime import datetime\n",
    "from itertools import combinations\n",
    "from collections import defaultdict\n",
    "from textwrap import wrap\n",
    "\n",
    "import jieba\n",
    "import numpy as np\n",
    "import seaborn as sns\n",
    "import pandas as pd\n",
    "import scipy.stats as st\n",
    "import matplotlib.pyplot as plt\n",
    "from sklearn.linear_model import LogisticRegression\n",
    "import ipywidgets as widgets\n",
    "from IPython.display import display\n",
    "\n",
    "%matplotlib inline\n",
    "\n",
    "#-----------------------------------------------------------------------\n",
    "# Load the Cedict dictionary\n",
    "#-----------------------------------------------------------------------\n",
    "dictionary = defaultdict(list)\n",
    "filter_out_patterns = [\n",
    "    'see ',\n",
    "    'abbr. for ',\n",
    "    'see also ',\n",
    "    'also written ',\n",
    "    'euphemistic variant of',\n",
    "    'variant of ',\n",
    "    'unofficial variant of ',\n",
    "    'archaic variant of ',\n",
    "    'old variant of ',\n",
    "    'ancient variant of ',\n",
    "    'erhua variant of ',\n",
    "    'Japanese variant of ',\n",
    "    'CL:',\n",
    "    '(old)',\n",
    "    '(dialect)',\n",
    "    '(surname)',\n",
    "    '(Cantonese)',\n",
    "    'radical',\n",
    "    'Mandarin equivalent'\n",
    "]\n",
    "\n",
    "with open('cedict_ts.u8') as f:\n",
    "    for i, line in enumerate(f):\n",
    "        if line.startswith('#'): # Skip comments\n",
    "            continue\n",
    "\n",
    "        _, hz, py, transl = re.match(\n",
    "            r\"(\\S*) (\\S*) \\[(.*)\\] \\/(.*)\\/\", line).groups()\n",
    "        \n",
    "        if py[0].isupper():\n",
    "            continue # Skip named entities\n",
    "\n",
    "        t_split = transl.split('/')\n",
    "        t_filtered = []\n",
    "        for t in t_split:\n",
    "            if t.startswith('surname '):\n",
    "                continue\n",
    "            not_note_pattern = r'[\\w\\W]*\\([\\w\\W]* pr\\. [\\w\\W]*\\)'\n",
    "            if ' pr. ' in t and not re.match(not_note_pattern, t):\n",
    "                # short for pronounciation. There's:\n",
    "                # also pr. , Taiwain pr. , Japan pr.\n",
    "                # However, when the pr. is inside parenthesis, it applies to\n",
    "                # the translation which comes before\n",
    "                continue\n",
    "\n",
    "            filter_out = False\n",
    "            for pattern in filter_out_patterns:\n",
    "                if pattern in t:\n",
    "                    filter_out = True\n",
    "            if filter_out:\n",
    "                continue\n",
    "            t_filtered.append(t)\n",
    "                    \n",
    "        if len(t_filtered) > 0:\n",
    "            dictionary[hz].append((py, t_filtered))\n",
    "\n",
    "#-----------------------------------------------------------------------\n",
    "# Load Weibo word frequencies\n",
    "#-----------------------------------------------------------------------\n",
    "word_freq = {}\n",
    "word_freq_all = {}\n",
    "with open('weibo_wordfreq.release_UTF-8.txt', encoding='utf-8-sig') as f: \n",
    "    for line in f.readlines():\n",
    "        word, count = line.split('\\t')\n",
    "        if word in word_freq:\n",
    "            continue\n",
    "\n",
    "        word_freq_all[word] = int(count)\n",
    "        if len(dictionary[word]) == 0:\n",
    "            continue\n",
    "\n",
    "        word_freq[word] = int(count)\n",
    "\n",
    "words = list(word_freq.keys())\n",
    "# Correct the frequency of components (component can not have lower frequency than compound)\n",
    "for w in words:\n",
    "    f = word_freq[w]\n",
    "    if f < 50000: continue # skip uncommon words to speed up\n",
    "    substrs = [w[x:y] for x, y in combinations(range(len(w)+1), r=2)]\n",
    "    for substr in substrs:\n",
    "        if substr not in words: continue\n",
    "        subf = word_freq.get(substr, 0)\n",
    "        if subf < f:\n",
    "            word_freq[substr] = f\n",
    "            \n",
    "# Calculate word rank, higher for higher frequencies\n",
    "word_rank = {w: r for r, (w, _) in \n",
    "             enumerate(sorted(word_freq.items(), key=lambda x: x[1]))}\n",
    "\n",
    "#-----------------------------------------------------------------------\n",
    "# Load the HSK word lists\n",
    "#-----------------------------------------------------------------------\n",
    "hsk_words_by_lvl = {}\n",
    "hsk_lvl_by_word = {}\n",
    "for lvl in range(1, 7):\n",
    "    words = []\n",
    "    with open(f'hsk/HSK{lvl}.txt', encoding='utf-8-sig') as f:\n",
    "        lines = list(f.readlines())\n",
    "        for w in lines:\n",
    "            w = w.strip() # strip away newlines\n",
    "            if w not in word_freq: continue # some HSK words are not in dict\n",
    "            words.append((w, word_freq[w]))\n",
    "            hsk_lvl_by_word[w] = lvl\n",
    "    hsk_words_by_lvl[lvl] = words\n",
    "    \n",
    "#-----------------------------------------------------------------------\n",
    "# Add components of HSK words as separate HSK words, e.g. 后面 -> 后， 面\n",
    "# This is because the HSK lists are missing most of these components\n",
    "#-----------------------------------------------------------------------\n",
    "# First, build an index over all HSK words for all their substrings\n",
    "hsk_word_index = {}\n",
    "for lvl in range(1, 7):\n",
    "    for w, f in hsk_words_by_lvl[lvl]:\n",
    "        substrs = [w[x:y] for x, y in combinations(range(len(w)+1), r=2)]\n",
    "        for substr in substrs:\n",
    "            _, _, curr_lvl = hsk_word_index.get(substr, (None, None, 7))\n",
    "            if lvl < curr_lvl:\n",
    "                hsk_word_index[substr] = (w, f, lvl)\n",
    "\n",
    "# Next, go through all non-HSK words and see if they are a component in an HSK word\n",
    "# If so, add them to the corresponding HSK level (if also in dictionary)\n",
    "component_assignments_per_lvl = defaultdict(list)\n",
    "for w, f in word_freq.items():\n",
    "    if w in hsk_lvl_by_word:\n",
    "        continue # Already is HSK word\n",
    "\n",
    "    if w in hsk_word_index:\n",
    "        hsk_w, f, lvl = hsk_word_index[w]\n",
    "        hsk_words_by_lvl[lvl].append((w, f))\n",
    "        hsk_lvl_by_word[w] = lvl\n",
    "        component_assignments_per_lvl[lvl].append((w, hsk_w))\n",
    "\n",
    "# Some debug prints\n",
    "if False:\n",
    "    for lvl in range(1, 4):\n",
    "        words = ' '.join([w for w, _ in component_assignments_per_lvl[lvl]])\n",
    "        print(f'Component HSK {lvl} words:')\n",
    "        print('\\n'.join(wrap(words, 80)))\n",
    "\n",
    "    print('\\nAdded for each level: ')\n",
    "    for lvl in range(1, 7):\n",
    "        print(f'HSK{lvl}: {len(component_assignments_per_lvl[lvl])}')\n"
   ]
  },
  {
   "cell_type": "markdown",
   "metadata": {},
   "source": [
    "   \n",
    "We can now make a boxplot of the word frequencies of the different HSK levels. As you can see, higher levels tend to have lower frequency words, and also a much smaller range of frequencies. The smaller ranges makes sense, since there are many more ways a word can have high frequency (there is no upper bound), than they can have a low frequency. But ignoring this we can already see that there is significant overlap between the levels. "
   ]
  },
  {
   "cell_type": "code",
   "execution_count": 2,
   "metadata": {
    "tags": [
     "toggle_input"
    ]
   },
   "outputs": [
    {
     "data": {
      "image/png": "[encoded data removed]",
      "text/plain": [
       "<Figure size 720x360 with 1 Axes>"
      ]
     },
     "metadata": {
      "needs_background": "light"
     },
     "output_type": "display_data"
    }
   ],
   "source": [
    "freqs = np.array([f for words in hsk_words_by_lvl.values()\n",
    "                  for _, f in words])\n",
    "lvls = np.array([lvl for lvl, words in hsk_words_by_lvl.items()\n",
    "                 for w in words])\n",
    "fig, ax = plt.subplots(figsize=(10, 5))\n",
    "sns.boxplot(x=lvls, y=freqs, ax=ax, fliersize=0);\n",
    "ax.set(ylim=(0, 1.4e7), xlabel='HSK Level', ylabel='Frequency');"
   ]
  },
  {
   "cell_type": "markdown",
   "metadata": {},
   "source": [
    "Worth noting is that these word frequencies are based on a Weibo (Chinese Twitter) dataset. At first I used a corpus based on all kinds of sources like news, novels etc, but Weibo is more colloquial which I think is more representative of the type of language learners are interested in. Ideally, we'd prefer a dataset with text a learner is likely to encounter: course text books, tv-shows and movies, chat \n",
    "\n",
    "In order to visualize where HSK words end up as a function of frequency, here's a bar chart showing the most common 5000 words with the most frequent to the right. Each colored bar is a word in HSK and white gaps are words not in the HSK. It drives home the point that\n",
    "1. There is no clear visual separation between levels\n",
    "2. HSK really has plenty of gaps in this range"
   ]
  },
  {
   "cell_type": "code",
   "execution_count": 105,
   "metadata": {
    "scrolled": true,
    "tags": [
     "toggle_input"
    ]
   },
   "outputs": [
    {
     "data": {
      "image/png": "[encoded data removed]",
      "text/plain": [
       "<Figure size 1080x144 with 1 Axes>"
      ]
     },
     "metadata": {
      "needs_background": "light"
     },
     "output_type": "display_data"
    }
   ],
   "source": [
    "# Find the k most frequent words and their HSK level\n",
    "K = 5000\n",
    "common_k_words = sorted(list(word_freq.items()), key=lambda x: x[1])[-K:]\n",
    "common_k_words_lvls = [(w, hsk_lvl_by_word.get(w, None)) for w, f in common_k_words]\n",
    "\n",
    "color_map = {None: 'white', 1: 'blue', 2: 'orange', 3: 'green', 4: 'red', 5: 'purple', 6: 'brown'}\n",
    "colors = [color_map[lvl] for _, lvl in common_k_words_lvls]\n",
    "plt.figure(figsize=(15, 2))\n",
    "ax = plt.axes([0,0,1,1], frameon=False)\n",
    "ax.get_xaxis().set_visible(False)\n",
    "ax.get_yaxis().set_visible(False)\n",
    "plt.bar(np.arange(len(colors)), np.ones(len(colors)), width=1.0, color=colors)\n",
    "plt.show()\n"
   ]
  },
  {
   "cell_type": "markdown",
   "metadata": {},
   "source": [
    "It's also a good idea to have a look at the distribution of words over frequencies and see if we can learn anything from it."
   ]
  },
  {
   "cell_type": "code",
   "execution_count": 4,
   "metadata": {
    "tags": [
     "toggle_input"
    ]
   },
   "outputs": [
    {
     "data": {
      "image/png": "[encoded data removed]",
      "text/plain": [
       "<Figure size 1080x360 with 2 Axes>"
      ]
     },
     "metadata": {
      "needs_background": "light"
     },
     "output_type": "display_data"
    }
   ],
   "source": [
    "# Reverse order to lowest frequency first\n",
    "counts = np.array(list(word_freq_all.values()))\n",
    "counts_subrange = counts[(counts > 1000) & (counts < 100000)]\n",
    "plt.rcParams['figure.figsize'] = [15, 5] # set larger plots\n",
    "plt.subplot(1, 2, 1)\n",
    "plt.hist(counts_subrange, 100)\n",
    "plt.ylabel('Count')\n",
    "plt.xlabel('Word Frequency')\n",
    "plt.subplot(1, 2, 2)\n",
    "plt.hist(np.log(counts_subrange), 100, log=True)\n",
    "\n",
    "plt.show()"
   ]
  },
  {
   "cell_type": "markdown",
   "metadata": {},
   "source": [
    "As it turns out, word frequencies in language corpora tend to follow [Zipf's law](https://en.wikipedia.org/wiki/Zipf%27s_law), which is a discrete version of the Pareto distribution on word rank rather than frequency. The second graph, which is a log-log plot, seems to indicate this as well, since the graph of a Pareto distribution should look roughly linear when plotted this way. It's not quite as linear as I'd hoped, but good enough."
   ]
  },
  {
   "cell_type": "markdown",
   "metadata": {},
   "source": [
    "### Advanced modeling\n",
    "\n",
    "If we want to build a really advanced model, we might want to take word covariances into account. For example, knowing \"刀 - knife\" makes knowing \"叉 - fork\" much more likley, because they tend to co-occur and be learned together. This would also include domains of co-occuring words, like \"household and child-caring words\" which is a domain I know disproportionately well after spending a month at home caring for my son together with my Chinese mother-in-law (who doesn't speak English, I might add).\n",
    "\n",
    "In the end, I think adding co-occurances would have little ROI for the added complexity, although it might be a topic worth revisiting in the future. "
   ]
  },
  {
   "cell_type": "markdown",
   "metadata": {},
   "source": [
    "## Making a prediction\n",
    "\n",
    "Now that we know our data a bit better we can think about how to predict a user's vocabulary. The idea is to create some kind of interactive procedure to iteratively discover this distribution. This way we can hone in on the user's skill level without asking tons of questions up front.\n",
    "\n",
    "Still, \"knowing\" a word is a bit of a loose concept since being able to produce a translation given a Hanzi cue doesn't really show whether you can use it well in a sentence. Or being able to write it, or recognize it in speech etc. There are many ways you could imagine probing the user, but this little proof of concetp I'll simplify the problem to just a binary decision for Hanzi+Pinyin+Translation combos.\n",
    "\n",
    "First, let's consider a single independent variable, frequency, and see what we can do. Predicting a probability based on a independent variable seems like a perfect job for *logistic regression*. It works by scaling the independent variable, adding some bias to it and then putting the result through the sigmoid function, producing a value between 0 and 1:\n",
    "\n",
    "$$\\frac{1}{1+e^{-(x^{L}_1 \\beta_1 + \\ldots + x^{L}_n \\beta_n + \\beta_c)}}$$\n",
    "\n",
    "Logistic regression finds the best values for the \\\\(\\beta\\\\) coefficients that minimize the *Cross Entropy Loss*. Since we are essentially training a separate predictor for each individual user with very few data points, it's a good idea to use a simple model like this, with as few variables as possible in order to avoid overfitting and make sampling easier.\n",
    "\n",
    "Let's try it by picking some random words from different HSK levels, assigning positive labels to levels 1-3, and negative labels to levels 4-6 and see what it looks like. Due to the underlying Pareto distribution, it's better to use frequency rank rather than the frequency as the independent variable, so that we have a uniform discrete distribution over the words:"
   ]
  },
  {
   "cell_type": "code",
   "execution_count": 106,
   "metadata": {
    "scrolled": true,
    "tags": [
     "toggle_input"
    ]
   },
   "outputs": [
    {
     "data": {
      "image/png": "[encoded data removed]",
      "text/plain": [
       "<Figure size 1080x360 with 1 Axes>"
      ]
     },
     "metadata": {
      "needs_background": "light"
     },
     "output_type": "display_data"
    }
   ],
   "source": [
    "word_rank_list = sorted(list(word_rank.items()), key=lambda x: x[1])\n",
    "words = [w for w, _ in word_rank_list]\n",
    "ranks = np.arange(len(word_rank_list))\n",
    "in_hsk = np.array([w in hsk_word_index for w in words])\n",
    "hsk_lvls = np.array([hsk_lvl_by_word.get(w, 0) for w in words])\n",
    "\n",
    "# -----------------------------------------------------------------------\n",
    "# Here are a few different versions of the hsk variable\n",
    "# NOTE: out of these options, quadratic has the lowest mean loss and std\n",
    "# -----------------------------------------------------------------------\n",
    "# Unused:\n",
    "#hsk_data = []\n",
    "# Quadratic:\n",
    "hsk_data = [np.array([(7 - hsk_lvl_by_word.get(w, 7))**2/36 for w in words])]\n",
    "# Linear:\n",
    "#hsk_data = [np.array([(7 - hsk_lvl_by_word.get(w, 7))/6 for w in words])]\n",
    "# Single binary:\n",
    "#hsk_data = [np.array([1.0 if w in hsk_lvl_by_word else 0.0 for w in words])]\n",
    "# Per level binary:\n",
    "#hsk_data = [np.array([1.0 if hsk_lvl_by_word.get(w, None) == lvl else 0.0 for w in words])\n",
    "#            for lvl in range(1, 7)]\n",
    "\n",
    "data = np.vstack((ranks.astype(float), *hsk_data)).T\n",
    "data_hsk_mean = data[in_hsk, 0].mean(axis=0)\n",
    "data_hsk_std = data[in_hsk, 0].std(axis=0)\n",
    "normalized_data = data.copy()\n",
    "normalized_data[:, 0] = (data[:, 0] - data_hsk_mean) / data_hsk_std\n",
    "normalized_word_rank = dict(zip(words, normalized_data[:, 0]))\n",
    "\n",
    "def sample_HSK_words_per_lvl(K):\n",
    "    test_words = []\n",
    "    random.seed(1) # Make sure we randomize reproducibly\n",
    "    for lvl in range(1, 7):\n",
    "        test_words = test_words + random.sample(hsk_words_by_lvl[lvl], K)\n",
    "    return test_words\n",
    "\n",
    "K = 50\n",
    "test_words = sample_HSK_words_per_lvl(K)\n",
    "test_rank = np.array([normalized_word_rank[w] for w, _ in test_words]).reshape(-1, 1)\n",
    "# Set the lower level words as known, rest as unknown\n",
    "outcomes = np.zeros(len(test_words))\n",
    "outcomes[:len(test_words) // 2] = 1\n",
    "\n",
    "def plot_logistic_regression(X, y, lr, show=True):\n",
    "    plt.figure()\n",
    "    plt.scatter(X.ravel(), y, color='black', zorder=20)\n",
    "    X_test = np.linspace(-0.5, 1.25, 1000)\n",
    "    y_plot = lr.predict_proba(X_test.reshape(-1, 1))[:, 1]\n",
    "    plt.plot(X_test, y_plot, color='red', linewidth=3)\n",
    "    plt.ylabel('Probability')\n",
    "    plt.xlabel('Normalized Frequency rank')\n",
    "    plt.xlim(-0.5, 1.25)\n",
    "    if show: plt.show()\n",
    "\n",
    "lr = LogisticRegression(random_state=0, solver='lbfgs', C=1e9)\n",
    "lr.fit(test_rank, outcomes)\n",
    "plot_logistic_regression(test_rank, outcomes, lr)\n"
   ]
  },
  {
   "cell_type": "markdown",
   "metadata": {},
   "source": [
    "## Active Learning\n",
    "How much data would we need to make a good prediction, and which words would we pick? Let's pretend that we already have a previous \"best guess\" logistic regression fit. This best guess could be completely manual, based on the user's rough HSK level, or a fit on a small sample of data. Could we use this estimate to pick good words to inquire about?\n",
    "\n",
    "My intuition tells me that words close to 0 or 1 probability are not good picks, since we're very sure about them. It would be better to pick words we're uncertain about, around 0.5. \n",
    "\n",
    "What we want is to find the word which would be the most surprising if we got it wrong, but is also likely to happen. More concretely, we want the *surprisal* for being wrong, times the probability of being wrong about it.\n",
    "\n",
    "Suprisal is an actual term in information theory, although most often called \"information content\". The surprisal/information of an event happening is \\\\(I(X) = -\\log(P(X))\\\\). This means that if the probability of X happening is 0, we're infinitely surprised if it does actually happen (since \\\\(-\\log(0)=\\infty\\\\)). If it's 1, then we're not surprised at all if it happens (since \\\\(-\\log(1)=0\\\\)).\n",
    "\n",
    "What we're looking for then is the *expected* surprisal of being wrong for both classes: \n",
    "\n",
    "$$ \\sum_{c \\in \\{T, F\\}} P(W=c)I(W=c) $$\n",
    "\n",
    "This is the same as the *entropy* for the binary probability distribution for a word. As it turns out, the maximum of this function is X=0.5, following our intuition. It also maximizes the expected loss for the Cross Entropy loss function, which gives further validity to the idea. There are other ways to sample for active learning, e.g. sampling close to the decision boundary, but this one is one of the basic ones and it's what I came up with before knowing what to google for :)\n"
   ]
  },
  {
   "cell_type": "code",
   "execution_count": 91,
   "metadata": {
    "tags": [
     "toggle_input"
    ]
   },
   "outputs": [
    {
     "data": {
      "image/png": "[encoded data removed]",
      "text/plain": [
       "<Figure size 1080x360 with 1 Axes>"
      ]
     },
     "metadata": {
      "needs_background": "light"
     },
     "output_type": "display_data"
    }
   ],
   "source": [
    "plt.figure()\n",
    "X = np.linspace(-7.0, 7.0, 1000)\n",
    "y = 1 / (1 + np.exp(-X))\n",
    "E = - y * np.log(y) - (1 - y) * np.log(1-y)\n",
    "plt.plot(X, y, color='red', linewidth=3)\n",
    "plt.plot(X, E, color='blue', linewidth=2)\n",
    "plt.ylabel('y')\n",
    "plt.xlabel('X')\n",
    "plt.figtext(.15, 0, \"Red line: the logistic function, blue line: the entropy\", fontsize=16)\n",
    "plt.show()"
   ]
  },
  {
   "cell_type": "markdown",
   "metadata": {},
   "source": [
    "Rather than just picking the highest entropy word, we can instead sample a bunch of words according to the entropy curve above, reflecting our underlying uncertainty.\n",
    "\n",
    "This way then, we can iteratively sample a bunch of words to test using the best current logistic regression fit, until some stopping criteria.\n",
    "\n",
    "This begs the question of how to sample words for the first iteration. It's important to get samples in both classes with varied inputs. For symmetry, we can set the coefficients of a logistic regression manually using a rough fluency/HSK level provided by the user. To determine the coefficients to use for the logistic function, we can use the constraints that we want the probability to be 0.5 at a point \\\\(x^{L}_{1}, ..., x^{L}_{n}\\\\) that represents the user's level. Then we can solve the intercept \\\\(\\beta_c\\\\) given our best guess for the influence factors for each input variable \\\\(\\beta_1, \\ldots, \\beta_n\\\\):\n",
    "$$\\frac{1}{1+e^{-(x^{L}_1 \\beta_1 + \\ldots + x^{L}_n \\beta_n + \\beta_c)}} = 0.5 \\implies \\beta_c = -(x^{L}_1 \\beta_1 + \\ldots + x^{L}_n \\beta_n)$$\n",
    "\n",
    "As for setting \\\\(x^{L}_{1}, ..., x^{L}_{n}\\\\), for frequency rank I found it best to set it to the upper quartile of the rank within the HSK level. For \\\\(\\beta\\\\) I found it working best to increase it quadratically with the reverse HSK level, resulting in a narrower distribution for lower levels.\n",
    "\n",
    "One practical detail for sampling from this distribution is that if done naively, we will get biased sampling due to there being probability mass *outside* the valid range of values. The result is that when we sample words, we will be biased towards sampling more difficult words. Here we can also see the reason for using rank rather than frequency: if we get even a little bit of probability assigned to the lower frequencies, we'll end up sampling a vast majority of words from there, due to the underlying Pareto distribution."
   ]
  },
  {
   "cell_type": "markdown",
   "metadata": {},
   "source": [
    "## HSK variable\n",
    "At this point it's time to add in the HSK variable as a predictor. Instead of using a normalized HSK level, it makes more sense to reverse it such that HSK 1 becomes 6 and HSK 6 becomes 1, and \"no level\" becomes 0. After trying various\n",
    "1. A binary indicator variable (HSK or not)\n",
    "2. Binary indicators for each level\n",
    "3. The reversed HSK level\n",
    "4. The squared reversed HSK level\n",
    "\n",
    "I found that the squared one worked best, probably related to the doubling of word count for consecutive levels.\n",
    "\n",
    "# Procedure, Dataset and Result\n",
    "The procedure so far is then:\n",
    "1. Ask for user's rough fluency level\n",
    "2. Set the initial logistic regression coefficients based on said level\n",
    "3. Until convergence or maximum number of iterations:\n",
    "    1. Sample N words based on word entropy\n",
    "    2. Collect binary yes/no answers for those words\n",
    "    3. Perform a logistic regression fit using all sampled and answered words so far\n",
    "\n",
    "How do we make sure this procedure actually works? Well, I have one potential dataset: me. I have 3765 notes in my Anki (an open-source spaced repetition app), which I've exported to a csv. I also add to it the earlier HSK levels which I have completed but not added to Anki, as well as a list of other words which I know, for a total of 5671 words:\n"
   ]
  },
  {
   "cell_type": "code",
   "execution_count": 7,
   "metadata": {
    "tags": [
     "toggle_input",
     "remove_output"
    ]
   },
   "outputs": [
    {
     "name": "stderr",
     "output_type": "stream",
     "text": [
      "Building prefix dict from the default dictionary ...\n",
      "Loading model from cache /var/folders/0k/m1fk8jtx5pn1_13nstf4gg7r0000gn/T/jieba.cache\n",
      "Loading model cost 0.973 seconds.\n",
      "Prefix dict has been built succesfully.\n"
     ]
    }
   ],
   "source": [
    "HANZI_UTF_RANGES = [\n",
    "    ('\\u4E00', '\\u9FFF'),\n",
    "    ('\\u3400', '\\u4DBF'),\n",
    "    ('\\uF900', '\\uFAFF')\n",
    "]\n",
    "\n",
    "def is_hanzi(char):\n",
    "    for start, end in HANZI_UTF_RANGES:\n",
    "        if ord(char) >= ord(start) and ord(char) <= ord(end):\n",
    "            return True\n",
    "    return False\n",
    "\n",
    "def filter_hanzi(text):\n",
    "    return ''.join(char for char in text if is_hanzi(char))\n",
    "\n",
    "anki_words = set()\n",
    "with open('anki_notes.txt') as f:\n",
    "    for line in f:\n",
    "        hanzi = filter_hanzi(line)\n",
    "        #print(line)\n",
    "        for character in hanzi:\n",
    "            if character in words:\n",
    "                anki_words.add(character)\n",
    "        for token, *_ in jieba.tokenize(hanzi, mode='search'):\n",
    "            if token in words:\n",
    "                anki_words.add(token)\n",
    "        if len(dictionary[hanzi]) != 0:\n",
    "            anki_words.add(token)\n",
    "                \n",
    "# Add words from HSK levels I learned before using Anki\n",
    "for lvl in range(1, 5):\n",
    "    for w, _ in hsk_words_by_lvl[lvl]:\n",
    "        anki_words.add(w)\n",
    "        \n",
    "# Add manually gathered extra words\n",
    "with open('known_words.txt') as f:\n",
    "    for line in f:\n",
    "        anki_words.add(line.strip())\n"
   ]
  },
  {
   "cell_type": "markdown",
   "metadata": {},
   "source": [
    "With my vocabulary, I can run as many randomized simulations as I'd like by simply providing answers based on the vocabulary, and then checking the final result in terms of loss over the whole vocabulary and other useful metrics. Below is the code for the whole procedure if you'd like to check it out:"
   ]
  },
  {
   "cell_type": "code",
   "execution_count": 110,
   "metadata": {
    "scrolled": false,
    "tags": [
     "toggle_input",
     "remove_output"
    ]
   },
   "outputs": [
    {
     "name": "stdout",
     "output_type": "stream",
     "text": [
      "Using seed: 49582\n",
      "Run  0\n",
      "Run  1\n",
      "Run  2\n",
      "Run  3\n",
      "Run  4\n",
      "Run  5\n",
      "Run  6\n",
      "Run  7\n",
      "Run  8\n",
      "Run  9\n",
      "Run  10\n",
      "Run  11\n",
      "Run  12\n",
      "Run  13\n",
      "Run  14\n",
      "Run  15\n",
      "Run  16\n",
      "Run  17\n",
      "Run  18\n",
      "Run  19\n",
      "Run  20\n",
      "Run  21\n",
      "Run  22\n",
      "Run  23\n",
      "Run  24\n",
      "Run  25\n",
      "Run  26\n",
      "Run  27\n",
      "Run  28\n",
      "Run  29\n",
      "Run  30\n",
      "Run  31\n",
      "Run  32\n",
      "Run  33\n",
      "Run  34\n",
      "Run  35\n",
      "Run  36\n",
      "Run  37\n",
      "Run  38\n",
      "Run  39\n",
      "Run  40\n",
      "Run  41\n",
      "Run  42\n",
      "Run  43\n",
      "Run  44\n",
      "Run  45\n",
      "Run  46\n",
      "Run  47\n",
      "Run  48\n",
      "Run  49\n",
      "Run  50\n",
      "Run  51\n",
      "Run  52\n",
      "Run  53\n",
      "Run  54\n",
      "Run  55\n",
      "Run  56\n",
      "Run  57\n",
      "Run  58\n",
      "Run  59\n",
      "Run  60\n",
      "Run  61\n",
      "Run  62\n",
      "Run  63\n",
      "Run  64\n",
      "Run  65\n",
      "Run  66\n",
      "Run  67\n",
      "Run  68\n",
      "Run  69\n",
      "Run  70\n",
      "Run  71\n",
      "Run  72\n",
      "Run  73\n",
      "Run  74\n",
      "Run  75\n",
      "Run  76\n",
      "Run  77\n",
      "Run  78\n",
      "Run  79\n",
      "Run  80\n",
      "Run  81\n",
      "Run  82\n",
      "Run  83\n",
      "Run  84\n",
      "Run  85\n",
      "Run  86\n",
      "Run  87\n",
      "Run  88\n",
      "Run  89\n",
      "Run  90\n",
      "Run  91\n",
      "Run  92\n",
      "Run  93\n",
      "Run  94\n",
      "Run  95\n",
      "Run  96\n",
      "Run  97\n",
      "Run  98\n",
      "Run  99\n",
      "Mean final loss: 9483.898648983522  std 994.3789515103733\n",
      "Done\n"
     ]
    }
   ],
   "source": [
    "seed = datetime.now().microsecond\n",
    "random.seed(seed)\n",
    "print('Using seed:', seed)\n",
    "np.seterr(all='raise')\n",
    "\n",
    "component_words = set()\n",
    "for lvl in range(1, 7):\n",
    "    component_words.update(set(w for w, _ in component_assignments_per_lvl[lvl]))\n",
    "    \n",
    "def prevent_nans(probs):\n",
    "    probs[probs[:, 0] == 0.0, 0] = 1-1e-20 # Prevent NaNs\n",
    "    probs[probs[:, 1] == 1.0, 1] = 1e-20\n",
    "\n",
    "def lr_prediction_and_sampling_cdf(lr, plot=False):\n",
    "    probs = lr.predict_proba(normalized_data)\n",
    "    low_prob = probs[:, 1] < 0.01\n",
    "    prevent_nans(probs)\n",
    "    try:\n",
    "        expected_information = -probs*np.log(probs)\n",
    "    except:\n",
    "        breakpoint()\n",
    "    expected_information = expected_information.sum(axis=1)\n",
    "    lr_probs = expected_information / expected_information.sum()\n",
    "    # Clip the long tail, to compensate for bias (very low probability words)\n",
    "    #lr_probs[low_prob] = 0\n",
    "    lr_cdf = np.cumsum(lr_probs)\n",
    "    if plot:\n",
    "        plt.plot(normalized_data[::100, 0], lr_probs[::100])\n",
    "        plt.show()\n",
    "    return probs, lr_cdf\n",
    "    \n",
    "\n",
    "def run_iterative_lr(include_hsk_lvl=False, plot_lr=False, num_samples=20,\n",
    "                     term_absdiff_thres=None, term_max_iter=5, answer_based_on_anki=True, anki_lvl=0):\n",
    "    # Ask for HSK level\n",
    "    user_hsk_lvl = anki_lvl\n",
    "    while user_hsk_lvl == 0:\n",
    "        print(\"HSK1: Beginner 1\")\n",
    "        print(\"HSK2: Beginner 2\")\n",
    "        print(\"HSK3: Intermediate 1\")\n",
    "        print(\"HSK4: Intermediate 2\")\n",
    "        print(\"HSK5: Advanced 1\")\n",
    "        print(\"HSK6: Advanced 2\")\n",
    "\n",
    "        answer = input('What is roughly your HSK level, 1-6? ')\n",
    "        fail = False\n",
    "        try:\n",
    "            user_hsk_lvl = int(answer)\n",
    "        except:\n",
    "            fail = True\n",
    "        if not (1 <= user_hsk_lvl <= 6):\n",
    "            fail = True\n",
    "        if fail:\n",
    "            print('Please choose a number between 1-6\\n')\n",
    "\n",
    "    sampled_words = set()\n",
    "    sampled_outcomes = []\n",
    "    sampled_indices = []\n",
    "    lr_cdf = None\n",
    "    stats_history = []\n",
    "    iteration = 0\n",
    "\n",
    "    # Set a sampling distribution based on the user's specified HSK level\n",
    "    # Found that cubing the reverse of the hsk level is a good initial frequency rank coefficient\n",
    "    # Small levels lead to big coefficients, which lead to a narrower sampling distribution\n",
    "    # Add a little to the lower levels to make sure low frequency words don't dominate\n",
    "    initial_sampling_freq_coef = (7 - user_hsk_lvl)**3 + (0.2 if user_hsk_lvl <= 2 else 0.0)\n",
    "    initial_sampling_intercept = -np.quantile(normalized_data[hsk_lvls == user_hsk_lvl, 0], .75) * initial_sampling_freq_coef\n",
    "\n",
    "    lr = LogisticRegression()\n",
    "    lr.coef_ = np.array([initial_sampling_freq_coef, *np.zeros(normalized_data.shape[1]-1)]).reshape(1, -1)\n",
    "    lr.intercept_ = initial_sampling_intercept\n",
    "    _, lr_cdf = lr_prediction_and_sampling_cdf(lr)\n",
    "    lr_coeffs, prev_lr_coeffs = None, None\n",
    "    def terminate():\n",
    "        if term_max_iter is not None and iteration >= term_max_iter:\n",
    "            return True\n",
    "        if term_absdiff_thres is None or prev_lr_coeffs is None:\n",
    "            return False\n",
    "        sum_absdiff = np.abs(lr_coeffs - prev_lr_coeffs).sum()\n",
    "        return sum_absdiff < term_absdiff_thres\n",
    "\n",
    "    \n",
    "    while not terminate():\n",
    "        if not answer_based_on_anki: print(f'Iteration {iteration+1}')\n",
    "\n",
    "        curr_sample = []\n",
    "        while len(curr_sample) < num_samples:\n",
    "            r = random.random()\n",
    "            idx = np.searchsorted(lr_cdf, r)\n",
    "            idx = idx -1 if idx == len(lr_cdf) else idx\n",
    "            try:\n",
    "                w = words[idx]\n",
    "            except:\n",
    "                breakpoint()\n",
    "            if (idx in curr_sample or\n",
    "                    w in sampled_words or\n",
    "                    w in component_words):\n",
    "                continue\n",
    "            curr_sample.append(idx)\n",
    "\n",
    "        outcomes = []\n",
    "        sample_words = []\n",
    "        sample_indices = []\n",
    "        for idx in curr_sample:\n",
    "            w, f = words[idx], normalized_data[idx, 0]\n",
    "            hsk_lvl = hsk_lvl_by_word.get(w, None)\n",
    "\n",
    "            # Fix race condition in streams resulting in input coming first\n",
    "            if answer_based_on_anki:\n",
    "                outcome = 1.0 if w in anki_words else 0.0\n",
    "            else:\n",
    "                print(f'HSK {hsk_lvl}: {w} {f}')\n",
    "                for py, transls in dictionary[w]:\n",
    "                    print(f'{py}: {\"/\".join(transls)}')\n",
    "\n",
    "                time.sleep(0.05)\n",
    "                answer = input('Do you know it, y/n? ')\n",
    "                print('') # Give space to the next question\n",
    "                outcome = 1.0 if answer == 'y' else 0.0\n",
    "\n",
    "            sampled_words.add(w)\n",
    "            outcomes.append(outcome)\n",
    "\n",
    "        sampled_indices = sampled_indices + curr_sample\n",
    "        sampled_outcomes = sampled_outcomes + outcomes\n",
    "\n",
    "        if len(np.unique(np.array(sampled_outcomes))) != 2:\n",
    "            # Need data from both true/false classes before doing regression\n",
    "            iteration += 1\n",
    "            continue\n",
    "\n",
    "        # NOTE: have to set a higher C in order to reduce regularization\n",
    "        # see https://stackoverflow.com/a/52064154\n",
    "        # By default C=1.0 which produces very high regularization\n",
    "        # But we still need some regularization, especially when an HSK1-3 student\n",
    "        # don't know any words outside HSK, this will make the estimate for rank coefficient\n",
    "        # too extreme\n",
    "        lr = LogisticRegression(random_state=0, solver='lbfgs', C=1e2)\n",
    "        X = normalized_data[np.array(sampled_indices)]\n",
    "        y = np.array(sampled_outcomes)\n",
    "        lr.fit(X, y)\n",
    "        \n",
    "        prev_lr_coeffs, lr_coeffs = lr_coeffs, np.append(lr.coef_.ravel(), lr.intercept_)\n",
    "        probs, lr_cdf = lr_prediction_and_sampling_cdf(lr)\n",
    "\n",
    "        # Evaluate Cross Entropy Loss on words in Anki\n",
    "        anki_mask = np.array([w in anki_words for w in words])\n",
    "        anki_loss = -np.log(probs[anki_mask, 1]).sum()\n",
    "        not_anki_loss = -np.log(probs[~anki_mask, 0]).sum()\n",
    "        loss = anki_loss + not_anki_loss\n",
    "        stats = {'anki_loss': anki_loss, 'not_anki_loss': not_anki_loss, 'loss': loss,\n",
    "                 'outcomes': np.array(outcomes).sum() / len(outcomes), 'coeffs': lr_coeffs}\n",
    "        for hsk in [True, False]:\n",
    "            hsk_mask = in_hsk if hsk else ~in_hsk\n",
    "            pos_outcomes = probs[:, 1] > 0.5\n",
    "            neg_outcomes = probs[:, 1] < 0.5\n",
    "            false_negatives = anki_mask & hsk_mask & neg_outcomes\n",
    "            false_positives = ~anki_mask & hsk_mask & pos_outcomes\n",
    "            true_negatives = ~anki_mask & hsk_mask & neg_outcomes\n",
    "            true_positives = anki_mask & hsk_mask & pos_outcomes\n",
    "            prefix = \"hsk_\" if hsk else \"not_hsk_\"\n",
    "            stats[prefix+'FN'] = np.count_nonzero(false_negatives)\n",
    "            stats[prefix+'FP'] = np.count_nonzero(false_positives)\n",
    "            stats[prefix+'TN'] = np.count_nonzero(true_negatives)\n",
    "            stats[prefix+'TP'] = np.count_nonzero(true_positives)\n",
    "\n",
    "        stats_history.append(stats)\n",
    "        iteration += 1\n",
    "    return stats_history\n",
    "\n",
    "NUM_ITER = 10\n",
    "NUM_RUNS = 100\n",
    "\n",
    "#run_iterative_lr(include_hsk_lvl=True, plot_lr=False, term_max_iter=NUM_ITER,\n",
    "#                 answer_based_on_anki=False, anki_lvl=2)\n",
    "\n",
    "loss = []\n",
    "iteration = []\n",
    "outcomes = []\n",
    "final_losses = []\n",
    "for i in range(NUM_RUNS):\n",
    "    print('Run ', i)\n",
    "    stats_history = run_iterative_lr(include_hsk_lvl=True, plot_lr=False, term_max_iter=NUM_ITER,\n",
    "                                     answer_based_on_anki=True, anki_lvl=5)\n",
    "    for i, stats in enumerate(stats_history):\n",
    "        loss.append(stats['loss'])\n",
    "        outcomes.append(stats['outcomes'])\n",
    "        iteration.append(i)\n",
    "    final_losses.append(stats_history[-1]['loss'])\n",
    "final_losses = np.array(final_losses)\n",
    "print('Mean final loss:', final_losses.mean(), ' std', final_losses.std())\n",
    "print('Done')"
   ]
  },
  {
   "cell_type": "markdown",
   "metadata": {},
   "source": [
    "Here are two key graphs:\n",
    "1. The average loss over time for 100 randomized simulation runs. We naturally expect this loss to go down over time.\n",
    "2. The percent of words that are answered correctly each iteration. We expect this to be around 0.5 if the fit is good. Due to previously mentioned sampling bias, the actual average is lower than that. After trying to correct for this, it's clear that there is still some difference of about 10% that I cannot account for."
   ]
  },
  {
   "cell_type": "code",
   "execution_count": 111,
   "metadata": {
    "tags": [
     "toggle_input"
    ]
   },
   "outputs": [
    {
     "data": {
      "image/png": "[encoded data removed]",
      "text/plain": [
       "<Figure size 1080x360 with 2 Axes>"
      ]
     },
     "metadata": {
      "needs_background": "light"
     },
     "output_type": "display_data"
    }
   ],
   "source": [
    "fig, axes = plt.subplots(1, 2)\n",
    "\n",
    "sns.lineplot(x=np.array(iteration), y=np.array(loss), ax=axes[0]);\n",
    "axes[0].set(xlabel='Iteration', ylabel='Loss', title=f'Loss over {NUM_RUNS} runs');\n",
    "sns.lineplot(x=np.array(iteration), y=np.array(outcomes), ax=axes[1]);\n",
    "axes[1].set(ylim=(0, 1), xlabel='Iteration', ylabel='% known', title=f'% Known words over {NUM_RUNS} runs');\n",
    "plt.show()"
   ]
  },
  {
   "cell_type": "markdown",
   "metadata": {},
   "source": [
    "## False Positives and False Negatives\n",
    "A useful statistic for figuring out how well this system is actually doing is false positives and false negatives. We can use the predicted probabilities and threshold on > 0.5 to get a binary classification for each word. Here you can see the outcomes for the words in my dataset:"
   ]
  },
  {
   "cell_type": "code",
   "execution_count": 82,
   "metadata": {
    "tags": [
     "toggle_input"
    ]
   },
   "outputs": [
    {
     "data": {
      "text/html": [
       "<table>\n",
       "<thead>\n",
       "<tr><th>HSK  </th><th style=\"text-align: right;\">  Negatives</th><th style=\"text-align: right;\">  Positives</th></tr>\n",
       "</thead>\n",
       "<tbody>\n",
       "<tr><td>False</td><td style=\"text-align: right;\">        828</td><td style=\"text-align: right;\">        436</td></tr>\n",
       "<tr><td>True </td><td style=\"text-align: right;\">       2924</td><td style=\"text-align: right;\">       2813</td></tr>\n",
       "</tbody>\n",
       "</table>"
      ],
      "text/plain": [
       "<IPython.core.display.HTML object>"
      ]
     },
     "metadata": {},
     "output_type": "display_data"
    },
    {
     "data": {
      "text/html": [
       "<table>\n",
       "<thead>\n",
       "<tr><th>Non-HSK  </th><th style=\"text-align: right;\">  Negatives</th><th style=\"text-align: right;\">  Positives</th></tr>\n",
       "</thead>\n",
       "<tbody>\n",
       "<tr><td>False    </td><td style=\"text-align: right;\">       1637</td><td style=\"text-align: right;\">         40</td></tr>\n",
       "<tr><td>True     </td><td style=\"text-align: right;\">      46454</td><td style=\"text-align: right;\">        169</td></tr>\n",
       "</tbody>\n",
       "</table>"
      ],
      "text/plain": [
       "<IPython.core.display.HTML object>"
      ]
     },
     "metadata": {},
     "output_type": "display_data"
    },
    {
     "data": {
      "text/html": [
       "<table>\n",
       "<thead>\n",
       "<tr><th>         </th><th style=\"text-align: right;\">     HSK</th><th style=\"text-align: right;\">  Non-HSK</th></tr>\n",
       "</thead>\n",
       "<tbody>\n",
       "<tr><td>Accuracy </td><td style=\"text-align: right;\">0.819454</td><td style=\"text-align: right;\"> 0.96528 </td></tr>\n",
       "<tr><td>Precision</td><td style=\"text-align: right;\">0.865805</td><td style=\"text-align: right;\"> 0.808612</td></tr>\n",
       "<tr><td>Recall   </td><td style=\"text-align: right;\">0.77259 </td><td style=\"text-align: right;\"> 0.093577</td></tr>\n",
       "</tbody>\n",
       "</table>"
      ],
      "text/plain": [
       "<IPython.core.display.HTML object>"
      ]
     },
     "metadata": {},
     "output_type": "display_data"
    }
   ],
   "source": [
    "from IPython.display import HTML, display\n",
    "import tabulate\n",
    "\n",
    "h = random.choice(stats_history)\n",
    "accuracy = []\n",
    "precision = []\n",
    "recall = []\n",
    "for hsk in [True, False]:\n",
    "    pre = 'hsk_' if hsk else 'not_hsk_'\n",
    "    FN = h[pre+'FN']\n",
    "    FP = h[pre+'FP']\n",
    "    TP = h[pre+'TP']\n",
    "    TN = h[pre+'TN']\n",
    "    table = [[\"HSK\" if hsk else \"Non-HSK\", \"Negatives\",\"Positives\"],\n",
    "             [\"False\", FN, FP],\n",
    "             [\"True\", TN, TP]]\n",
    "    display(HTML(tabulate.tabulate(table, headers=\"firstrow\", tablefmt='html')))\n",
    "    accuracy.append((TP+TN)/(TP+TN+FP+FN))\n",
    "    precision.append(float('nan') if TP+FP == 0 else TP/(TP+FP))\n",
    "    recall.append(TP/(TP+FN))\n",
    "    \n",
    "table = [[\"HSK\",\"Non-HSK\"],\n",
    "         [\"Accuracy\", accuracy[0], accuracy[1]],\n",
    "         [\"Precision\", precision[0], precision[1]],\n",
    "         [\"Recall\", recall[0], recall[1]]]\n",
    "display(HTML(tabulate.tabulate(table, headers=\"firstrow\", tablefmt='html')))\n"
   ]
  },
  {
   "cell_type": "markdown",
   "metadata": {},
   "source": [
    "As we can see for the Non-HSK table, *most* non-HSK words in my vocabulary are misclassified as \"don't know\" (low recall) even though precision is fairly high. This shows how tough it is to predict vocabulary outside the HSK using only frequency. \n",
    "\n",
    "# Conclusion\n",
    "Hopefully I've show that we can build a placement test that would shorted the on-boarding time in learning apps. Whether it generalizes well outside my own vocabulary is left to be seen. If you're reading this and is willing to donate your Anki notes, I'd happily accept them so that I can run more experiements!\n",
    "\n",
    "While I've specifically applied it to Chinese, the general structure could be applied to any topic where there is some indication of frequency, difficulty or general order of study. For Chinese, we could imagine splitting reading, writing, listening and (speech) synthesis into different placement tests since learners often place different emphasis on them.\n",
    "\n",
    "\n",
    "If you have any ideas or comments, please use the comment section below."
   ]
  }
 ],
 "metadata": {
  "celltoolbar": "Tags",
  "kernelspec": {
   "display_name": "Python 3",
   "language": "python",
   "name": "python3"
  },
  "language_info": {
   "codemirror_mode": {
    "name": "ipython",
    "version": 3
   },
   "file_extension": ".py",
   "mimetype": "text/x-python",
   "name": "python",
   "nbconvert_exporter": "python",
   "pygments_lexer": "ipython3",
   "version": "3.6.8"
  },
  "nikola": {
   "date": "2019-09-09 22:45:37 UTC+10:00",
   "previewimage": "/images/chinese_placement.png",
   "slug": "chinese-placement-test",
   "title": "Chinese Placement Test with Logistic Regression and Active Learning"
  }
 },
 "nbformat": 4,
 "nbformat_minor": 2
}
